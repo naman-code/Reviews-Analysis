{
 "cells": [
  {
   "cell_type": "markdown",
   "metadata": {},
   "source": [
    "This Code is to generate the model for star predictions here i have used the x data which i saved in a pickle file in my recomended model data clening steps"
   ]
  },
  {
   "cell_type": "code",
   "execution_count": 17,
   "metadata": {},
   "outputs": [],
   "source": [
    "import pandas as pd\n",
    "import pickle as pkl\n",
    "import numpy as np\n",
    "from tensorflow.keras.models import Sequential\n",
    "from tensorflow.keras.layers import Dense,Activation,Dropout\n",
    "from sklearn.metrics import r2_score"
   ]
  },
  {
   "cell_type": "code",
   "execution_count": 3,
   "metadata": {},
   "outputs": [
    {
     "data": {
      "text/plain": [
       "2        3\n",
       "3        5\n",
       "4        5\n",
       "5        2\n",
       "6        5\n",
       "        ..\n",
       "23481    5\n",
       "23482    3\n",
       "23483    3\n",
       "23484    3\n",
       "23485    5\n",
       "Name: Rating, Length: 19676, dtype: int64"
      ]
     },
     "execution_count": 3,
     "metadata": {},
     "output_type": "execute_result"
    }
   ],
   "source": [
    "data = pd.read_csv(\"Womens Clothing E-Commerce Reviews.csv\")\n",
    "data.drop([\"Unnamed: 0\",\"Clothing ID\",\"Age\",\"Division Name\",\"Department Name\",\"Class Name\",\"Review Text\"],axis = 1, inplace = True)\n",
    "data.dropna(inplace = True)\n",
    "y = data[\"Rating\"]\n",
    "y"
   ]
  },
  {
   "cell_type": "code",
   "execution_count": 3,
   "metadata": {},
   "outputs": [],
   "source": [
    "#pkl.dump(y,open(\"start_data.pkl\",\"wb\"))"
   ]
  },
  {
   "cell_type": "code",
   "execution_count": 4,
   "metadata": {},
   "outputs": [],
   "source": [
    "X = pkl.load(open(\"titledata.pkl\",\"rb\"))"
   ]
  },
  {
   "cell_type": "code",
   "execution_count": 5,
   "metadata": {},
   "outputs": [],
   "source": [
    "xtrain = X.iloc[1000:,:]\n",
    "xtest = X.iloc[0:1000,:]\n",
    "ytrain = y.iloc[1000:]\n",
    "ytest = y.iloc[0:1000]\n",
    "#Converting into numpy array\n",
    "xtrain = np.array(xtrain)\n",
    "xtest = np.array(xtest)\n",
    "ytrain = np.array(ytrain)\n",
    "ytest = np.array(ytest)"
   ]
  },
  {
   "cell_type": "code",
   "execution_count": null,
   "metadata": {},
   "outputs": [],
   "source": []
  },
  {
   "cell_type": "code",
   "execution_count": 23,
   "metadata": {},
   "outputs": [
    {
     "name": "stdout",
     "output_type": "stream",
     "text": [
      "Epoch 1/50\n",
      "748/748 - 5s - loss: 2.8661 - accuracy: 0.0345 - mae: 1.3377\n",
      "Epoch 2/50\n",
      "748/748 - 4s - loss: 1.6350 - accuracy: 0.0356 - mae: 1.0345\n",
      "Epoch 3/50\n",
      "748/748 - 4s - loss: 1.3042 - accuracy: 0.0356 - mae: 0.9213\n",
      "Epoch 4/50\n",
      "748/748 - 3s - loss: 1.0874 - accuracy: 0.0356 - mae: 0.8386\n",
      "Epoch 5/50\n",
      "748/748 - 3s - loss: 0.9355 - accuracy: 0.0356 - mae: 0.7745\n",
      "Epoch 6/50\n",
      "748/748 - 4s - loss: 0.7978 - accuracy: 0.0356 - mae: 0.7130\n",
      "Epoch 7/50\n",
      "748/748 - 4s - loss: 0.6972 - accuracy: 0.0356 - mae: 0.6645\n",
      "Epoch 8/50\n",
      "748/748 - 4s - loss: 0.6202 - accuracy: 0.0356 - mae: 0.6267\n",
      "Epoch 9/50\n",
      "748/748 - 4s - loss: 0.5608 - accuracy: 0.0356 - mae: 0.5924\n",
      "Epoch 10/50\n",
      "748/748 - 4s - loss: 0.5043 - accuracy: 0.0355 - mae: 0.5603\n",
      "Epoch 11/50\n",
      "748/748 - 4s - loss: 0.4765 - accuracy: 0.0352 - mae: 0.5422\n",
      "Epoch 12/50\n",
      "748/748 - 4s - loss: 0.4472 - accuracy: 0.0349 - mae: 0.5222\n",
      "Epoch 13/50\n",
      "748/748 - 4s - loss: 0.4251 - accuracy: 0.0348 - mae: 0.5040\n",
      "Epoch 14/50\n",
      "748/748 - 4s - loss: 0.4119 - accuracy: 0.0350 - mae: 0.4918\n",
      "Epoch 15/50\n",
      "748/748 - 4s - loss: 0.3937 - accuracy: 0.0345 - mae: 0.4816\n",
      "Epoch 16/50\n",
      "748/748 - 4s - loss: 0.3939 - accuracy: 0.0344 - mae: 0.4776\n",
      "Epoch 17/50\n",
      "748/748 - 4s - loss: 0.3787 - accuracy: 0.0340 - mae: 0.4691\n",
      "Epoch 18/50\n",
      "748/748 - 4s - loss: 0.3673 - accuracy: 0.0342 - mae: 0.4594\n",
      "Epoch 19/50\n",
      "748/748 - 4s - loss: 0.3681 - accuracy: 0.0345 - mae: 0.4599\n",
      "Epoch 20/50\n",
      "748/748 - 4s - loss: 0.3640 - accuracy: 0.0345 - mae: 0.4524\n",
      "Epoch 21/50\n",
      "748/748 - 4s - loss: 0.3508 - accuracy: 0.0342 - mae: 0.4456\n",
      "Epoch 22/50\n",
      "748/748 - 4s - loss: 0.3520 - accuracy: 0.0341 - mae: 0.4449\n",
      "Epoch 23/50\n",
      "748/748 - 4s - loss: 0.3504 - accuracy: 0.0341 - mae: 0.4431\n",
      "Epoch 24/50\n",
      "748/748 - 4s - loss: 0.3497 - accuracy: 0.0342 - mae: 0.4400\n",
      "Epoch 25/50\n",
      "748/748 - 4s - loss: 0.3429 - accuracy: 0.0339 - mae: 0.4355\n",
      "Epoch 26/50\n",
      "748/748 - 4s - loss: 0.3449 - accuracy: 0.0336 - mae: 0.4354\n",
      "Epoch 27/50\n",
      "748/748 - 4s - loss: 0.3435 - accuracy: 0.0336 - mae: 0.4361\n",
      "Epoch 28/50\n",
      "748/748 - 4s - loss: 0.3270 - accuracy: 0.0339 - mae: 0.4251\n",
      "Epoch 29/50\n",
      "748/748 - 4s - loss: 0.3329 - accuracy: 0.0341 - mae: 0.4276\n",
      "Epoch 30/50\n",
      "748/748 - 4s - loss: 0.3319 - accuracy: 0.0343 - mae: 0.4256\n",
      "Epoch 31/50\n",
      "748/748 - 4s - loss: 0.3272 - accuracy: 0.0337 - mae: 0.4226\n",
      "Epoch 32/50\n",
      "748/748 - 4s - loss: 0.3255 - accuracy: 0.0336 - mae: 0.4197\n",
      "Epoch 33/50\n",
      "748/748 - 4s - loss: 0.3261 - accuracy: 0.0344 - mae: 0.4186\n",
      "Epoch 34/50\n",
      "748/748 - 4s - loss: 0.3248 - accuracy: 0.0339 - mae: 0.4175\n",
      "Epoch 35/50\n",
      "748/748 - 4s - loss: 0.3206 - accuracy: 0.0337 - mae: 0.4145\n",
      "Epoch 36/50\n",
      "748/748 - 4s - loss: 0.3169 - accuracy: 0.0338 - mae: 0.4128\n",
      "Epoch 37/50\n",
      "748/748 - 4s - loss: 0.3165 - accuracy: 0.0334 - mae: 0.4107\n",
      "Epoch 38/50\n",
      "748/748 - 4s - loss: 0.3142 - accuracy: 0.0335 - mae: 0.4091\n",
      "Epoch 39/50\n",
      "748/748 - 4s - loss: 0.3169 - accuracy: 0.0341 - mae: 0.4089\n",
      "Epoch 40/50\n",
      "748/748 - 4s - loss: 0.3121 - accuracy: 0.0341 - mae: 0.4078\n",
      "Epoch 41/50\n",
      "748/748 - 4s - loss: 0.3109 - accuracy: 0.0337 - mae: 0.4049\n",
      "Epoch 42/50\n",
      "748/748 - 4s - loss: 0.3100 - accuracy: 0.0344 - mae: 0.4045\n",
      "Epoch 43/50\n",
      "748/748 - 4s - loss: 0.3083 - accuracy: 0.0339 - mae: 0.4005\n",
      "Epoch 44/50\n",
      "748/748 - 4s - loss: 0.3041 - accuracy: 0.0337 - mae: 0.3993\n",
      "Epoch 45/50\n",
      "748/748 - 4s - loss: 0.3048 - accuracy: 0.0337 - mae: 0.4020\n",
      "Epoch 46/50\n",
      "748/748 - 4s - loss: 0.3067 - accuracy: 0.0336 - mae: 0.4018\n",
      "Epoch 47/50\n",
      "748/748 - 4s - loss: 0.3028 - accuracy: 0.0342 - mae: 0.3975\n",
      "Epoch 48/50\n",
      "748/748 - 4s - loss: 0.3026 - accuracy: 0.0333 - mae: 0.3979\n",
      "Epoch 49/50\n",
      "748/748 - 4s - loss: 0.3007 - accuracy: 0.0337 - mae: 0.3973\n",
      "Epoch 50/50\n",
      "748/748 - 4s - loss: 0.3073 - accuracy: 0.0338 - mae: 0.3997\n"
     ]
    }
   ],
   "source": [
    "model = Sequential()\n",
    "model.add(Dense(128,activation = 'relu',input_shape = (len(xtrain[0]),)))\n",
    "model.add(Dropout(0.5))\n",
    "model.add(Dense(64,activation = \"relu\"))\n",
    "model.add(Dropout(0.5))\n",
    "model.add(Dense(32,activation = \"relu\"))\n",
    "model.add(Dropout(0.5))\n",
    "model.add(Dense(1 , activation = \"linear\"))\n",
    "\n",
    "model.compile(loss='mse', optimizer='adam', metrics=['accuracy','mae'])\n",
    "\n",
    "hist = model.fit(xtrain,ytrain , epochs = 50, verbose = 2, batch_size = 25)\n",
    "\n",
    "model.save(\"star.h5\",hist)"
   ]
  },
  {
   "cell_type": "code",
   "execution_count": 24,
   "metadata": {},
   "outputs": [
    {
     "name": "stdout",
     "output_type": "stream",
     "text": [
      "Model: \"sequential_5\"\n",
      "_________________________________________________________________\n",
      "Layer (type)                 Output Shape              Param #   \n",
      "=================================================================\n",
      "dense_16 (Dense)             (None, 128)               458624    \n",
      "_________________________________________________________________\n",
      "dropout_9 (Dropout)          (None, 128)               0         \n",
      "_________________________________________________________________\n",
      "dense_17 (Dense)             (None, 64)                8256      \n",
      "_________________________________________________________________\n",
      "dropout_10 (Dropout)         (None, 64)                0         \n",
      "_________________________________________________________________\n",
      "dense_18 (Dense)             (None, 32)                2080      \n",
      "_________________________________________________________________\n",
      "dropout_11 (Dropout)         (None, 32)                0         \n",
      "_________________________________________________________________\n",
      "dense_19 (Dense)             (None, 1)                 33        \n",
      "=================================================================\n",
      "Total params: 468,993\n",
      "Trainable params: 468,993\n",
      "Non-trainable params: 0\n",
      "_________________________________________________________________\n"
     ]
    }
   ],
   "source": [
    "model.summary()"
   ]
  },
  {
   "cell_type": "code",
   "execution_count": 25,
   "metadata": {},
   "outputs": [],
   "source": [
    "ypred = model.predict(X)"
   ]
  },
  {
   "cell_type": "code",
   "execution_count": 26,
   "metadata": {},
   "outputs": [
    {
     "data": {
      "text/plain": [
       "array([[2.301152 ],\n",
       "       [4.875685 ],\n",
       "       [4.8684206],\n",
       "       ...,\n",
       "       [2.7516174],\n",
       "       [3.3285866],\n",
       "       [4.856416 ]], dtype=float32)"
      ]
     },
     "execution_count": 26,
     "metadata": {},
     "output_type": "execute_result"
    }
   ],
   "source": [
    "ypred"
   ]
  },
  {
   "cell_type": "code",
   "execution_count": 27,
   "metadata": {},
   "outputs": [
    {
     "data": {
      "text/plain": [
       "0.7847982340612938"
      ]
     },
     "execution_count": 27,
     "metadata": {},
     "output_type": "execute_result"
    }
   ],
   "source": [
    "# finding the r2 score closer to 1 means better model if euqal to 1 it means model is overfitted\n",
    "r2_score(ypred,y)"
   ]
  }
 ],
 "metadata": {
  "kernelspec": {
   "display_name": "Python 3",
   "language": "python",
   "name": "python3"
  },
  "language_info": {
   "codemirror_mode": {
    "name": "ipython",
    "version": 3
   },
   "file_extension": ".py",
   "mimetype": "text/x-python",
   "name": "python",
   "nbconvert_exporter": "python",
   "pygments_lexer": "ipython3",
   "version": "3.8.5"
  }
 },
 "nbformat": 4,
 "nbformat_minor": 4
}
