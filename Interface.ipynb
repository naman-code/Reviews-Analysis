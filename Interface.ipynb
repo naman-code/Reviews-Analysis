{
 "cells": [
  {
   "cell_type": "code",
   "execution_count": 8,
   "metadata": {},
   "outputs": [],
   "source": [
    "from tensorflow.keras.models import load_model\n",
    "import pickle as pkl\n",
    "import pandas as pd\n",
    "import numpy as np"
   ]
  },
  {
   "cell_type": "code",
   "execution_count": 10,
   "metadata": {},
   "outputs": [],
   "source": [
    "model = load_model(\"reviewstar.h5\")\n",
    "model1 = load_model(\"star.h5\")\n",
    "cv = pkl.load(open(\"BoW_Title.pkl\",\"rb\"))\n",
    "xdata = pkl.load(open(\"titledata.pkl\",\"rb\"))\n",
    "ydata = pkl.load(open(\"ydata.pkl\",\"rb\"))"
   ]
  },
  {
   "cell_type": "raw",
   "metadata": {},
   "source": [
    " Lets start with the interface \n",
    " See here i an doing it with 1 single input point it could be done with multiple reviews at once it isnt a problem"
   ]
  },
  {
   "cell_type": "code",
   "execution_count": 11,
   "metadata": {},
   "outputs": [],
   "source": [
    "def predictions(gg):\n",
    "    gg = cv.transform(gg)\n",
    "    pred = model.predict_proba(gg)[0]\n",
    "    pred1 = model1.predict(gg)[0]\n",
    "    return pred,pred1"
   ]
  },
  {
   "cell_type": "code",
   "execution_count": 12,
   "metadata": {},
   "outputs": [
    {
     "name": "stdout",
     "output_type": "stream",
     "text": [
      "Enter the review - good quality love the product\n",
      "[0.9999728] [4.6286087]\n"
     ]
    }
   ],
   "source": [
    "review = [input(\"Enter the review - \")]\n",
    "out, out1 = predictions(review)\n",
    "print(out,out1)"
   ]
  },
  {
   "cell_type": "markdown",
   "metadata": {},
   "source": [
    "### value nearer to 0 means not a great product and value nearer to 1 means a good product"
   ]
  },
  {
   "cell_type": "code",
   "execution_count": null,
   "metadata": {},
   "outputs": [],
   "source": []
  }
 ],
 "metadata": {
  "kernelspec": {
   "display_name": "Python 3",
   "language": "python",
   "name": "python3"
  },
  "language_info": {
   "codemirror_mode": {
    "name": "ipython",
    "version": 3
   },
   "file_extension": ".py",
   "mimetype": "text/x-python",
   "name": "python",
   "nbconvert_exporter": "python",
   "pygments_lexer": "ipython3",
   "version": "3.8.5"
  }
 },
 "nbformat": 4,
 "nbformat_minor": 4
}
